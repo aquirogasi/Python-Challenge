{
 "cells": [
  {
   "cell_type": "code",
   "execution_count": 137,
   "metadata": {},
   "outputs": [
    {
     "name": "stdout",
     "output_type": "stream",
     "text": [
      "Election Results\n",
      "--------------------------\n",
      "Total Votes: 3521001\n",
      "Khan : 63.000% (2218231)\n",
      "Correy : 20.000% (704200)\n",
      "Li : 14.000% (492940)\n",
      "O'Tooley : 3.000% (105630)\n",
      "Winner: Khan\n"
     ]
    }
   ],
   "source": [
    "import os\n",
    "import csv\n",
    "import pandas as pd\n",
    "\n",
    "# Path to collect data from the Resources folder\n",
    "paypall_csv = os.path.join('..', 'python-challenge', 'election_data.csv')\n",
    "\n",
    "# Use Pandas to read data\n",
    "election_data_file_pd = pd.read_csv(paypall_csv)\n",
    "\n",
    "\n",
    "# Find the total number of votes cast using the value_counts method in Voter ID column\n",
    "total_votes = election_data_file_pd[\"Voter ID\"].count()\n",
    "\n",
    "# Find a complete list of candidates who received votes\n",
    "candidate_list_with_votes = election_data_file_pd[\"Candidate\"].unique()\n",
    "\n",
    "# Find the total number of votes each candidate won\n",
    "votes_count_by_candidate = election_data_file_pd[\"Candidate\"].value_counts()\n",
    "\n",
    "# Find the percentage of votes each candidate won\n",
    "percentage_of_votes = votes_count_by_candidate / total_votes\n",
    "\n",
    "\n",
    "# Find the winner of the election\n",
    "winner = max(votes_count_by_candidate.keys(),key =(lambda k: votes_count_by_candidate[k]))\n",
    "\n",
    "# Open a text file with w+ which indicates write and create a file if it does not exist in library\n",
    "file = open(\"pay_pall.txt\",\"w+\")\n",
    "\n",
    "# Print and write results\n",
    "print('Election Results')\n",
    "file.write('Election Results \\n')\n",
    "print('--------------------------')\n",
    "file.write('-------------------------- \\n')\n",
    "print(f'Total Votes: {total_votes}')\n",
    "file.write(f'Total Votes: {total_votes} \\n')\n",
    "\n",
    "# Loop through the merged list to print the last but one results in just one line           \n",
    "for cand_with_votes,votes_by_candidate,percentage_of_votes in zip(candidate_list_with_votes,votes_count_by_candidate,percentage_of_votes):\n",
    "    \n",
    "    print(f\"{cand_with_votes} : {'{:.3%}'.format(percentage_of_votes)} ({votes_by_candidate})\")\n",
    "    file.write(f\"{cand_with_votes} : {'{:.3%}'.format(percentage_of_votes)} ({votes_by_candidate}) \\n\")\n",
    "\n",
    "print(f\"Winner: {winner}\")\n",
    "file.write(f'Winner: {winner} \\n')\n",
    "\n",
    "           \n",
    "# Closing the file      \n",
    "file.close()\n",
    "           \n"
   ]
  },
  {
   "cell_type": "code",
   "execution_count": null,
   "metadata": {},
   "outputs": [],
   "source": []
  },
  {
   "cell_type": "code",
   "execution_count": null,
   "metadata": {},
   "outputs": [],
   "source": []
  }
 ],
 "metadata": {
  "kernelspec": {
   "display_name": "Python 3",
   "language": "python",
   "name": "python3"
  },
  "language_info": {
   "codemirror_mode": {
    "name": "ipython",
    "version": 3
   },
   "file_extension": ".py",
   "mimetype": "text/x-python",
   "name": "python",
   "nbconvert_exporter": "python",
   "pygments_lexer": "ipython3",
   "version": "3.7.3"
  }
 },
 "nbformat": 4,
 "nbformat_minor": 2
}
